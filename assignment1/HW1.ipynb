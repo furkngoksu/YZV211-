{
 "cells": [
  {
   "cell_type": "markdown",
   "id": "95029967-b560-4642-bb44-6b20dd65df77",
   "metadata": {},
   "source": [
    "# YZV 211E \n",
    "# Homework 1 \n",
    "### Prepared by Res. Asst. Yaren Yılmaz\n",
    "yilmazy20@itu.edu.tr\n",
    "\n",
    "In the world of AI, the ability to access and manipulate data from various sources is a fundamental skill. This assignment is designed to give you hands-on experience in working with Application Programming Interfaces (APIs), which allow different software systems to interact and share information. You will be tasked with obtaining data from two public APIs, applying data transformation techniques to filter and process the received information, and finally, visualizing the results.\n",
    "<p align=\"center\">\n",
    "  <img src=\"https://rapidapi.com/blog/wp-content/uploads/2023/03/What-is-an-API-definition.webp\" width=\"600\" height=\"400\" alt=\"convert notebook to web app\">\n",
    "</p>\n",
    "\n",
    "**Don't forget to leave comments in the notebook. Print the necessary outputs at each stage in your code. Assignments without necessary outputs and comments will be deducted points.**"
   ]
  },
  {
   "cell_type": "code",
   "execution_count": 1,
   "id": "182b2334-63f2-40c1-9c29-ca204ddf0a8a",
   "metadata": {},
   "outputs": [],
   "source": [
    "# You can use the following libraries if you need them.\n",
    "import requests\n",
    "from datetime import datetime, timedelta\n",
    "\n",
    "import time\n",
    "import pandas as pd\n",
    "import matplotlib.pyplot as plt"
   ]
  },
  {
   "cell_type": "markdown",
   "id": "90a0389f-b688-4caa-a040-783039e39feb",
   "metadata": {
    "jp-MarkdownHeadingCollapsed": true
   },
   "source": [
    "### What is Kraken API ?\n",
    "\n",
    "The Kraken Public REST API is a part of the Kraken cryptocurrency exchange's API suite that provides access to publicly available market data and information without requiring user authentication. Here's a brief summary of the key features of the Kraken Public REST API:\n",
    "\n",
    "1. **Market Data**: The API allows users to access a wide range of market data, including order book snapshots, recent trade history, and historical OHLCV (Open/High/Low/Close/Volume) data for various cryptocurrency trading pairs.\n",
    "\n",
    "2. **Asset Information**: Users can retrieve information about available cryptocurrency assets, their trading pairs, and other details related to the exchange's offerings.\n",
    "\n",
    "3. **Ticker Information**: The API provides real-time and historical price ticker information for trading pairs on Kraken.\n",
    "\n",
    "4. **Time Information**: Developers can access the current time on the Kraken server, which is useful for synchronizing their applications with the exchange.\n",
    "\n",
    "5. **Supported Pairs**: Kraken supports a wide range of cryptocurrency pairs and trading instruments, and the Public REST API enables users to query the available pairs and their details.\n",
    "\n",
    "6. **Rate Limiting**: Kraken imposes rate limits on API requests to prevent abuse and ensure fair usage of their resources. These rate limits are important to keep in mind when using the API.\n"
   ]
  },
  {
   "cell_type": "markdown",
   "id": "2c9147af-f743-45e5-b3f6-bf78dbd2fe57",
   "metadata": {
    "jp-MarkdownHeadingCollapsed": true
   },
   "source": [
    "### Part 1: Get BTC Data from REST API 25p\n",
    "\n",
    "In this part, you will use [Get OHCL Data Public Endpoint](https://docs.kraken.com/rest/#tag/Market-Data/operation/getOHLCData). The goal is receiving hourly BTC price and volume data. Define the pair as 'XXBTZUSD'.\n",
    "* Show the data.\n",
    "\n",
    "   \n",
    "The Documentation shows:\n",
    "* Query Parameter\n",
    "* Response Schema\n",
    "* Request Sample\n",
    "* Response Sample"
   ]
  },
  {
   "cell_type": "code",
   "execution_count": 2,
   "id": "dad5eeb8-7f94-4c33-bc39-6bd3a998a2a0",
   "metadata": {},
   "outputs": [],
   "source": [
    "#We created the desired parameter that the page ask to us.\n",
    "#I don't set \"since\" in parameters.Question don't want to me to use that\n",
    "parameters = {\"pair\" : \"XXBTZUSD\",\n",
    "              \"interval\" : 60,}\n",
    "#interval = \"60\" --> Because the goal is receiving hourly data.\n",
    "\n",
    "#URL of data.\n",
    "url = \"https://api.kraken.com/0/public/OHLC?\"\n",
    "\n",
    "#Get response from server.\n",
    "response = requests.get(url, params=parameters)\n",
    "\n",
    "#Converting the received data to json format.\n",
    "resp=response.json()\n",
    "\n"
   ]
  },
  {
   "cell_type": "markdown",
   "id": "360267d1-6470-426e-a10f-adda402735c7",
   "metadata": {
    "jp-MarkdownHeadingCollapsed": true
   },
   "source": [
    "### Part 2: BTC Data to Pandas Dataframe & Filtering 25p\n",
    "\n",
    "You should complete some tasks using [pandas](https://pandas.pydata.org/docs/user_guide/index.html#user-guide) . After receiving the BTC data using API, it is expected to filter the dataset by date. The dataset should include price values only between times 'October 10, 2023 00\\:00\\:00' and 'October 17, 2023 20\\:00\\:00'.\n",
    "\n",
    "After that, we need to find the hours with the highest price increase and the hours with the highest price decrease. Price change can be calculated as the difference between the closing and opening prices for the given time.\n",
    "\n",
    "* For example if open=10 and close=20 for one hour, it means the price increasing. The price change is calculated as 20-10=10.\n",
    "* If open=10 and close=5 for one hour, it means the price descreasing. The price change is calculated as 5-10=-5.\n",
    "\n",
    "\n",
    "* Show the hours you found.\n",
    "\n",
    "Check [Responses](https://docs.kraken.com/rest/#tag/Market-Data/operation/getOHLCData) for meaningful column names.\n"
   ]
  },
  {
   "cell_type": "code",
   "execution_count": 3,
   "id": "a7ea33f1-61f7-4797-b28b-db2edf77a640",
   "metadata": {},
   "outputs": [
    {
     "name": "stdout",
     "output_type": "stream",
     "text": [
      "           time     open     high      low    close     vwap        volume  \\\n",
      "0    1696280400  27835.1  27870.2  27298.0  27483.2  27581.2  449.31481526   \n",
      "1    1696284000  27482.9  27573.9  27371.4  27564.8  27517.9  308.08415262   \n",
      "2    1696287600  27564.8  27619.1  27445.0  27500.9  27523.8  283.36422975   \n",
      "3    1696291200  27500.9  27566.4  27425.2  27425.3  27508.9   49.61613593   \n",
      "4    1696294800  27425.2  27552.2  27385.4  27552.2  27448.0   33.94566281   \n",
      "..          ...      ...      ...      ...      ...      ...           ...   \n",
      "715  1698854400  34298.3  34540.2  34298.2  34469.9  34414.6   77.90530918   \n",
      "716  1698858000  34469.9  34523.6  34363.3  34516.0  34455.8  154.51353966   \n",
      "717  1698861600  34516.1  34720.0  34455.4  34602.7  34575.7  125.66790841   \n",
      "718  1698865200  34602.8  34719.0  34522.9  34577.4  34603.6  149.90336138   \n",
      "719  1698868800  34573.8  34697.6  34573.7  34687.4  34659.2   17.71712000   \n",
      "\n",
      "     count  \n",
      "0     2997  \n",
      "1     1490  \n",
      "2     1183  \n",
      "3      872  \n",
      "4      750  \n",
      "..     ...  \n",
      "715   1794  \n",
      "716   2155  \n",
      "717   2839  \n",
      "718   2094  \n",
      "719    622  \n",
      "\n",
      "[720 rows x 8 columns]\n",
      "TimestampStart of 2023.10.10 00:00 :  1696885200\n",
      "TimestampEnd of 2023.10.17 20:00 :  1697562000\n",
      "           time     open    close\n",
      "168  1696885200  27572.7  27626.9\n",
      "169  1696888800  27626.9  27590.1\n",
      "170  1696892400  27590.1  27586.1\n",
      "171  1696896000  27586.1  27561.3\n",
      "172  1696899600  27558.0  27600.1\n",
      "..          ...      ...      ...\n",
      "352  1697547600  28241.4  28321.1\n",
      "353  1697551200  28321.1  28490.8\n",
      "354  1697554800  28490.8  28480.3\n",
      "355  1697558400  28480.3  28600.0\n",
      "356  1697562000  28600.0  28440.3\n",
      "\n",
      "[189 rows x 3 columns]\n",
      "Start Date :  2023-10-10 00:00:00\n",
      "Timestamp of Start :  1696885200\n",
      "End Date :  2023-10-17 20:00:00\n",
      "Endstamp of End :  1697562000\n"
     ]
    }
   ],
   "source": [
    "\n",
    "#Convert data frame using given columname in webpage.\n",
    "df = pd.DataFrame(resp[\"result\"][\"XXBTZUSD\"], columns=[\"time\",\"open\",\"high\",\"low\",\"close\",\"vwap\",\"volume\",\"count\"])\n",
    "print(df)\n",
    "\n",
    "#Set start and end date.\n",
    "\n",
    "#Transfer START date to LocalTimeZone\n",
    "dtStart = datetime(2023, 10, 10, 0, 0, 0)\n",
    "timestampStart = int(dtStart.timestamp())\n",
    "print(\"TimestampStart of 2023.10.10 00:00 : \",timestampStart)\n",
    "\n",
    "\n",
    "#Transfer END date to LocalTimeZone\n",
    "dtEnd = datetime(2023, 10, 17, 20, 0, 0)\n",
    "timestampEnd = int(dtEnd.timestamp())\n",
    "print(\"TimestampEnd of 2023.10.17 20:00 : \",timestampEnd)\n",
    "\n",
    "\n",
    "#Set the data limit to get exact interval of dataframe.\n",
    "df = df[(df[\"time\"]>=timestampStart) & (df[\"time\"]<=timestampEnd)]\n",
    "\n",
    "\n",
    "#Goal is about price and volume data. So drop these columns.\n",
    "df = df.drop(columns=[\"high\",\"low\",\"vwap\",\"volume\",\"count\",], axis=1)\n",
    "\n",
    "print(df)\n",
    "\n",
    "#Check the Start and End date\n",
    "timedate =df[\"time\"].iloc[0]\n",
    "date = datetime.fromtimestamp(df[\"time\"].iloc[0]).strftime('%Y-%m-%d %H:%M:%S')\n",
    "\n",
    "print(\"Start Date : \",date)\n",
    "print(\"Timestamp of Start : \",timedate)\n",
    "\n",
    "timedateEnd =df[\"time\"].iloc[-1]\n",
    "dateEnd = datetime.fromtimestamp(df[\"time\"].iloc[-1]).strftime('%Y-%m-%d %H:%M:%S')\n",
    "\n",
    "print(\"End Date : \",dateEnd)\n",
    "print(\"Endstamp of End : \",timedateEnd)"
   ]
  },
  {
   "cell_type": "code",
   "execution_count": 4,
   "id": "13402586-bc2c-4482-9b43-3c419fec1ab1",
   "metadata": {},
   "outputs": [],
   "source": [
    "#Change the type of cells.\n",
    "df[\"open\"] = df[\"open\"].astype(\"float16\")\n",
    "df[\"close\"] = df[\"close\"].astype(\"float16\")\n",
    "\n",
    "#Define a list.\n",
    "result = []\n",
    "#Converting open close differences to a list and assign.\n",
    "result = (df[\"open\"] - df[\"close\"]).tolist()\n",
    "#Create a copy of the list\n",
    "joker = result.copy()\n",
    "joker.sort()\n",
    "\n",
    "#Sort this list and find min max values.\n",
    "#Finding the indexes of these values in the \"result\" list.\n",
    "for i in result:\n",
    "    if joker[0] == i:\n",
    "        maximum = int(result.index(i))\n",
    "for i in result:\n",
    "    if joker[-1] == i:\n",
    "        minimum = int(result.index(i))\n"
   ]
  },
  {
   "cell_type": "code",
   "execution_count": 5,
   "id": "80c49a63-a5e4-4835-8b58-717dfdb81e8e",
   "metadata": {},
   "outputs": [
    {
     "name": "stdout",
     "output_type": "stream",
     "text": [
      "Highest Increasing Timestamp is :  1697432400\n",
      "Highest Decreasing Timestamp is :  1696989600\n"
     ]
    }
   ],
   "source": [
    "#Using these indexes, we find the highest increasing and decreasing index values from the dataframe.\n",
    "\n",
    "print(\"Highest Increasing Timestamp is : \",df[\"time\"].iloc[maximum])\n",
    "print(\"Highest Decreasing Timestamp is : \",df[\"time\"].iloc[minimum])\n",
    "\n",
    "DecreasingTime=int(df[\"time\"].iloc[minimum])\n",
    "IncreasingTime=int(df[\"time\"].iloc[maximum])\n",
    "\n",
    "\n"
   ]
  },
  {
   "cell_type": "code",
   "execution_count": null,
   "id": "fd70add4-4b4d-42d5-a2c4-e76555a6968e",
   "metadata": {},
   "outputs": [],
   "source": []
  },
  {
   "cell_type": "code",
   "execution_count": null,
   "id": "728f1a14-c33b-41a6-83b5-db16d88a672f",
   "metadata": {},
   "outputs": [],
   "source": []
  },
  {
   "cell_type": "code",
   "execution_count": null,
   "id": "13e9e6b4-dbaf-40fd-8b92-f1bce453a755",
   "metadata": {},
   "outputs": [],
   "source": []
  },
  {
   "cell_type": "markdown",
   "id": "ad4e92ea-daf5-4aba-9fdd-b0e57b7747a2",
   "metadata": {
    "jp-MarkdownHeadingCollapsed": true
   },
   "source": [
    "### Part 3: Get Trade Data from REST API 25p\n",
    "\n",
    "Now, we have two timestamp values of the highest price changes. We want to analyze these hours in more detail by looking their trades. You will use the public endpoint called [Get Recent Trade](https://docs.kraken.com/rest/#tag/Market-Data/operation/getRecentTrades). You should find all the trades within the selected hours, that you have already found in Part 2.\n",
    "* For example if selected_ts=1697500800 (dt = '2023-10-17 00\\:00\\:00'), you should include all the trades between '2023-10-17 00\\:00\\:00'  and '2023-10-17 01\\:00\\:00'.\n",
    "* Show the trade data.\n",
    "\n",
    "**Note:** The first few trades after 1 hour can be ignored, because it depends on the 'count' parameter you choose."
   ]
  },
  {
   "cell_type": "code",
   "execution_count": 6,
   "id": "32963682-d6b6-48f6-9938-2cb444c3c7c4",
   "metadata": {},
   "outputs": [],
   "source": [
    "#Set newUrl for new webpages.\n",
    "newUrl = \"https://api.kraken.com/0/public/Trades\"\n",
    "\n",
    "#Define a function to get dataset of highest increasing data.\n",
    "def findMaxData(url):\n",
    "    i=0\n",
    "    #Defining an empty list, this list will be used to store dataframes.\n",
    "    dflist = []\n",
    "\n",
    "    parameters = {\"pair\" :\"XXBTZUSD\",\n",
    "                  \"since\" : str(IncreasingTime),\n",
    "                  \"count\" : 1000}\n",
    "    #Goal is 1 hour of data.\n",
    "    #1000 Counts were not enough to get this.\n",
    "    #Get all the data thanks to the loop.\n",
    "    while i<1:\n",
    "        response = requests.get(url=url, params=parameters).json()\n",
    "        #To continue the loop, define a new timestamp for the beginning of the loop using the last timestamop of the data.\n",
    "        x=(response[\"result\"][\"XXBTZUSD\"][-1][2])\n",
    "        #Setting the start of the parameter equal to the last value of the first dataset.\n",
    "        parameters[\"since\"] = str(x)\n",
    "        #Convert data to dataframe.\n",
    "        dfforIncrease = pd.DataFrame(response[\"result\"][\"XXBTZUSD\"], columns=[\"price\",\"volume\",\"time\",\"buy/sell\",\"market/limit\",\"misccellaneous\",\"trade_id\"])\n",
    "        #Converting the timestamp in the \"time\" column of \"dfforIncrease\" to normal time.\n",
    "        \n",
    "        #This conversion is relative to GMT, so it is used according to the user's preference.\n",
    "        #!!!\n",
    "        dfforIncrease[\"time\"] = pd.to_datetime(dfforIncrease[\"time\"], unit=\"s\")\n",
    "        #!!!\n",
    "        #Add dataframe to the created empty list.\n",
    "        dflist.append(dfforIncrease)\n",
    "        if int(x)>=IncreasingTime+3600:\n",
    "            break\n",
    "    #Completing list of dataframes.\n",
    "    #Combine the dataframes in this list to get one dataframe.\n",
    "    dfIncrease =  pd.concat(dflist,axis=0)\n",
    "    return dfIncrease\n",
    "\n",
    "#It's the same as the findMaxData function, only the values are different.\n",
    "def findMinData(url):\n",
    "    i=0\n",
    "    dflist = []\n",
    "    parameters = {\"pair\" :\"XXBTZUSD\",\n",
    "                  \"since\" : str(DecreasingTime),\n",
    "                  \"count\" : 1000}\n",
    "    while i<1:\n",
    "        response = requests.get(url=url, params=parameters).json()\n",
    "        x=(response[\"result\"][\"XXBTZUSD\"][-1][2])\n",
    "        parameters[\"since\"] = str(x)\n",
    "        dfforDecreasing = pd.DataFrame(response[\"result\"][\"XXBTZUSD\"], columns=[\"price\",\"volume\",\"time\",\"buy/sell\",\"market/limit\",\"misccellaneous\",\"trade_id\"])\n",
    "        #This conversion is relative to GMT, so it is used according to the user's preference.\n",
    "        #!!!\n",
    "        dfforDecreasing[\"time\"] = pd.to_datetime(dfforDecreasing[\"time\"],unit=\"s\")\n",
    "        #!!!\n",
    "        dflist.append(dfforDecreasing)\n",
    "        if int(x)>=DecreasingTime+3600:\n",
    "            break \n",
    "    dfDecrease =  pd.concat(dflist,axis=0)\n",
    "    return dfDecrease\n",
    "\n",
    "dfIncrease = findMaxData(newUrl)\n",
    "dfDecrease = findMinData(newUrl)\n",
    "\n"
   ]
  },
  {
   "cell_type": "code",
   "execution_count": 7,
   "id": "4963370d-15df-4893-bbec-827b12fbe21f",
   "metadata": {},
   "outputs": [],
   "source": [
    "#Since the dataframe is very large and exceeds the 1-hour limit,\n",
    "#this function can be used to cut the dataframe.\n",
    "#The question says a few can be ignored, \n",
    "#but the dataset for \"DECREASING\" time exceeds 1 hour.\n",
    "\n",
    "def cutData(data,DecreasingTime):\n",
    "    DecreaseLastDate = datetime.fromtimestamp(DecreasingTime-7200).strftime('%Y-%m-%d %H:%M:%S')\n",
    "    df = data[data[\"time\"] <= DecreaseLastDate]\n",
    "    return df\n",
    "\n",
    "dfDecrease=cutData(dfDecrease,DecreasingTime=DecreasingTime)\n"
   ]
  },
  {
   "cell_type": "code",
   "execution_count": 8,
   "id": "1442a2cb-e836-4d7a-9acf-51d8b486dbb7",
   "metadata": {},
   "outputs": [
    {
     "name": "stdout",
     "output_type": "stream",
     "text": [
      "           price      volume                          time buy/sell  \\\n",
      "0    27262.00000  0.00036139 2023-10-16 05:00:00.054248448        b   \n",
      "1    27262.00000  0.00033862 2023-10-16 05:00:32.720192768        b   \n",
      "2    27262.00000  0.00375000 2023-10-16 05:01:04.801383168        b   \n",
      "3    27262.00000  0.01600000 2023-10-16 05:01:09.031017216        b   \n",
      "4    27262.00000  2.01000000 2023-10-16 05:01:18.845548800        b   \n",
      "..           ...         ...                           ...      ...   \n",
      "995  27936.90000  0.01742648 2023-10-16 06:01:22.318775296        b   \n",
      "996  27928.90000  0.00036479 2023-10-16 06:01:32.350443776        s   \n",
      "997  27928.90000  0.03681476 2023-10-16 06:01:32.350520064        s   \n",
      "998  27928.90000  0.03161723 2023-10-16 06:01:32.612478464        s   \n",
      "999  27928.90000  0.10292988 2023-10-16 06:01:32.612541184        s   \n",
      "\n",
      "    market/limit misccellaneous  trade_id  \n",
      "0              l                 63366956  \n",
      "1              l                 63366957  \n",
      "2              m                 63366958  \n",
      "3              m                 63366959  \n",
      "4              m                 63366960  \n",
      "..           ...            ...       ...  \n",
      "995            m                 63370866  \n",
      "996            m                 63370867  \n",
      "997            m                 63370868  \n",
      "998            m                 63370869  \n",
      "999            m                 63370870  \n",
      "\n",
      "[4000 rows x 7 columns]\n",
      "           price      volume                          time buy/sell  \\\n",
      "0    27435.90000  0.00021869 2023-10-11 02:00:00.432487936        b   \n",
      "1    27435.90000  0.00026238 2023-10-11 02:00:15.065344512        b   \n",
      "2    27435.90000  0.00329117 2023-10-11 02:00:30.472915456        b   \n",
      "3    27435.90000  0.00179550 2023-10-11 02:00:39.031270144        b   \n",
      "4    27435.90000  0.00371592 2023-10-11 02:00:40.087316736        b   \n",
      "..           ...         ...                           ...      ...   \n",
      "724  27119.20000  0.00404510 2023-10-11 02:59:33.980654336        b   \n",
      "725  27123.60000  0.00677627 2023-10-11 02:59:33.980688128        b   \n",
      "726  27123.60000  0.00941224 2023-10-11 02:59:33.980722432        b   \n",
      "727  27120.90000  0.03006391 2023-10-11 02:59:51.459870208        b   \n",
      "728  27120.90000  0.00500000 2023-10-11 02:59:54.860668672        b   \n",
      "\n",
      "    market/limit misccellaneous  trade_id  \n",
      "0              m                 63264627  \n",
      "1              l                 63264628  \n",
      "2              m                 63264629  \n",
      "3              l                 63264630  \n",
      "4              m                 63264631  \n",
      "..           ...            ...       ...  \n",
      "724            m                 63266340  \n",
      "725            m                 63266341  \n",
      "726            m                 63266342  \n",
      "727            m                 63266343  \n",
      "728            m                 63266344  \n",
      "\n",
      "[1729 rows x 7 columns]\n"
     ]
    }
   ],
   "source": [
    "print(dfIncrease)\n",
    "print(dfDecrease)"
   ]
  },
  {
   "cell_type": "markdown",
   "id": "bed094d9-d1ec-4a60-ab39-e9ad6ed524ed",
   "metadata": {
    "jp-MarkdownHeadingCollapsed": true
   },
   "source": [
    "### Part 4: Trade Data to Pandas Dataframe & Analysis 25p\n",
    "\n",
    "In the last part, it is expected to visualize your result. We want to see how the average volume of hours, with the highest price increase and highest price decrease, differ in buying and selling transactions. You should use bar plot where 'x' axis should represent the unique values of 'buy/sell' column and 'y' axis should represent the mean of volume.\n",
    "\n",
    "In the end, you should obtain two different bar plots. One for the highest increase and one for the the highest decrease.\n",
    "\n",
    "Check [Responses](https://docs.kraken.com/rest/#tag/Market-Data/operation/getRecentTrades) for meaningful column names.\n"
   ]
  },
  {
   "cell_type": "code",
   "execution_count": 9,
   "id": "23372623-2fdb-4bcc-bbd1-370e85610706",
   "metadata": {},
   "outputs": [
    {
     "name": "stdout",
     "output_type": "stream",
     "text": [
      "Buy-Average for Highest Increasing Timestamp : \n",
      "0.1608902824337915\n",
      "Sell-Average for Highest Increasing Timestamp : \n",
      "0.09819622742379547\n",
      "Buy-Average for Highest Decreasing Timestamp  : \n",
      "0.08759167900195695\n",
      "Sell-Average for Highest Decreasing Timestamp : \n",
      "0.11435858245484402\n"
     ]
    }
   ],
   "source": [
    "#Changing the \"volume\" column of data to float type. For Max data.\n",
    "dfIncrease[\"volume\"] = dfIncrease[\"volume\"].astype(float)\n",
    "\n",
    "\n",
    "#Changing the \"volume\" column of data to float type. For Min data.\n",
    "dfDecrease[\"volume\"] = dfDecrease[\"volume\"].astype(float)\n",
    "\n",
    "\n",
    "#Finding the average of the obtained dataframe.\n",
    "def findAverage(data):\n",
    "    #Calculating the average of the data for different values in buy-sell in the \"volume\" column.\n",
    "    #Using \"groupby\" method.\n",
    "    result = data.groupby('buy/sell')['volume'].mean()\n",
    "    #Collecting these values in a dictionary.\n",
    "    dict = {\"b\" : result[\"b\"],\n",
    "            \"s\" : result[\"s\"]}\n",
    "    return dict\n",
    "\n",
    "\n",
    "AveragesIncrease=findAverage(dfIncrease)\n",
    "AveragesDecrease=findAverage(dfDecrease)\n",
    "\n",
    "\n",
    "#Average for buy(Max).\n",
    "print(\"Buy-Average for Highest Increasing Timestamp : \")\n",
    "print(AveragesIncrease[\"b\"])\n",
    "#Average for sell(Max).\n",
    "print(\"Sell-Average for Highest Increasing Timestamp : \")\n",
    "print(AveragesIncrease[\"s\"])\n",
    "\n",
    "\n",
    "#Average for buy(Min).\n",
    "print(\"Buy-Average for Highest Decreasing Timestamp  : \")\n",
    "print(AveragesDecrease[\"b\"])\n",
    "#Average for sell(Min).\n",
    "print(\"Sell-Average for Highest Decreasing Timestamp : \")\n",
    "print(AveragesDecrease[\"s\"])\n",
    "\n",
    "\n"
   ]
  },
  {
   "cell_type": "code",
   "execution_count": 13,
   "id": "104efa28-a08d-454e-885c-888188cf1220",
   "metadata": {},
   "outputs": [
    {
     "data": {
      "image/png": "[encoded data removed]",
      "text/plain": [
       "<Figure size 640x480 with 1 Axes>"
      ]
     },
     "metadata": {},
     "output_type": "display_data"
    }
   ],
   "source": [
    "#Plot the graph of average values.\n",
    "\n",
    "\n",
    "plt.figure(2)\n",
    "plt.bar([\"b\",\"s\"],[AveragesDecrease[\"b\"],AveragesDecrease[\"s\"]],alpha=0.7)\n",
    "plt.xlabel(\"buy/sell\")\n",
    "plt.ylabel(\"Mean of Volume\")\n",
    "plt.title(\"Average of buy-sell for Decreasing Timestamp\")\n",
    "plt.show()\n"
   ]
  },
  {
   "cell_type": "code",
   "execution_count": 12,
   "id": "61ee9d20-98eb-4571-846c-54d5d88ffd6e",
   "metadata": {},
   "outputs": [
    {
     "data": {
      "image/png": "[encoded data removed]",
      "text/plain": [
       "<Figure size 640x480 with 1 Axes>"
      ]
     },
     "metadata": {},
     "output_type": "display_data"
    }
   ],
   "source": [
    "plt.figure(1)\n",
    "plt.bar([\"b\",\"s\"],[AveragesIncrease[\"b\"],AveragesIncrease[\"s\"]],alpha=0.7)\n",
    "plt.xlabel(\"buy/sell\")\n",
    "plt.ylabel(\"Mean of Volume\")\n",
    "plt.title(\"Average of buy-sell for Increasing Timestamp\")\n",
    "plt.show()\n"
   ]
  },
  {
   "cell_type": "code",
   "execution_count": null,
   "id": "f43191b2-9d0b-4972-b7ed-e52c49bc2b23",
   "metadata": {},
   "outputs": [],
   "source": []
  }
 ],
 "metadata": {
  "kernelspec": {
   "display_name": "Python 3 (ipykernel)",
   "language": "python",
   "name": "python3"
  },
  "language_info": {
   "codemirror_mode": {
    "name": "ipython",
    "version": 3
   },
   "file_extension": ".py",
   "mimetype": "text/x-python",
   "name": "python",
   "nbconvert_exporter": "python",
   "pygments_lexer": "ipython3",
   "version": "3.11.5"
  }
 },
 "nbformat": 4,
 "nbformat_minor": 5
}
